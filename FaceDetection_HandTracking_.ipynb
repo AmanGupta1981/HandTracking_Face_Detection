{
 "cells": [
  {
   "cell_type": "code",
   "execution_count": 1,
   "id": "1be58f1f-cf84-4590-880f-e03ccc85e430",
   "metadata": {},
   "outputs": [],
   "source": [
    "import cv2\n",
    "import mediapipe as mp"
   ]
  },
  {
   "cell_type": "code",
   "execution_count": null,
   "id": "76b29e30-430f-40fc-bad1-196d7066609b",
   "metadata": {},
   "outputs": [],
   "source": [
    "0 - WRIST\n",
    "1 - THUMB_CMC (Carpometacarpal joint)\n",
    "2 - THUMB_MCP (Metacarpophalangeal joint)\n",
    "3 - THUMB_IP (Interphalangeal joint)\n",
    "4 - THUMB_TIP\n",
    "5 - INDEX_FINGER_CMC\n",
    "6 - INDEX_FINGER_MCP\n",
    "7 - INDEX_FINGER_PIP (Proximal interphalangeal joint)\n",
    "8 - INDEX_FINGER_DIP (Distal interphalangeal joint)\n",
    "9 - INDEX_FINGER_TIP\n",
    "10 - MIDDLE_FINGER_CMC\n",
    "11 - MIDDLE_FINGER_MCP\n",
    "12 - MIDDLE_FINGER_PIP\n",
    "13 - MIDDLE_FINGER_DIP\n",
    "14 - MIDDLE_FINGER_TIP\n",
    "15 - RING_FINGER_CMC\n",
    "16 - RING_FINGER_MCP\n",
    "17 - RING_FINGER_PIP\n",
    "18 - RING_FINGER_DIP\n",
    "19 - RING_FINGER_TIP\n",
    "20 - PINKY_CMC\n",
    "21 - PINKY_MCP\n",
    "22 - PINKY_PIP\n",
    "23 - PINKY_DIP\n",
    "24 - PINKY_TIP"
   ]
  },
  {
   "cell_type": "code",
   "execution_count": 4,
   "id": "8a580507-6f45-4721-9162-b967ab722344",
   "metadata": {},
   "outputs": [],
   "source": [
    "import cv2\n",
    "import mediapipe as mp\n",
    "\n",
    "# Initialize MediaPipe modules\n",
    "mp_drawing = mp.solutions.drawing_utils\n",
    "mp_drawing_styles = mp.solutions.drawing_styles\n",
    "mp_hands = mp.solutions.hands\n",
    "mp_face_dect = mp.solutions.face_detection\n",
    "\n",
    "# Start video capture\n",
    "cap = cv2.VideoCapture(0)\n",
    "\n",
    "# Initialize hand tracking\n",
    "hands = mp_hands.Hands(model_complexity=0, min_detection_confidence=0.5, min_tracking_confidence=0.5)\n",
    "\n",
    "# Initialize face detection\n",
    "face_dect = mp_face_dect.FaceDetection(min_detection_confidence=0.5)\n",
    "\n",
    "while cap.isOpened():\n",
    "    r, frame = cap.read()\n",
    "    \n",
    "    if not r:\n",
    "        print(\"Failed to capture image\")\n",
    "        break\n",
    "    \n",
    "    frame = cv2.flip(frame, 1)\n",
    "    frame_rgb = cv2.cvtColor(frame, cv2.COLOR_BGR2RGB)\n",
    "\n",
    "    # Process the frame for face detection\n",
    "    face_result = face_dect.process(frame_rgb)\n",
    "\n",
    "    # Draw face detections\n",
    "    if face_result.detections:\n",
    "        for cr in face_result.detections:\n",
    "            mp_drawing.draw_detection(frame, cr)\n",
    "\n",
    "    # Process the frame for hand tracking\n",
    "    hand_result = hands.process(frame_rgb)\n",
    "\n",
    "    # Draw hand landmarks\n",
    "    if hand_result.multi_hand_landmarks:\n",
    "        for hand_landmarks in hand_result.multi_hand_landmarks:\n",
    "            mp_drawing.draw_landmarks(frame, hand_landmarks, mp_hands.HAND_CONNECTIONS)\n",
    "\n",
    "    # Display the frame\n",
    "    cv2.imshow(\"Hand Tracking and Face Detection\", frame)\n",
    "\n",
    "    # Break the loop on 'q' key press\n",
    "    if cv2.waitKey(25) & 0xFF == ord('q'):\n",
    "        break\n",
    "\n",
    "# Release resources\n",
    "cap.release()\n",
    "cv2.destroyAllWindows()\n"
   ]
  },
  {
   "cell_type": "code",
   "execution_count": null,
   "id": "e7f30022-bc45-4123-a4b3-7d9b84a6052f",
   "metadata": {},
   "outputs": [],
   "source": []
  },
  {
   "cell_type": "code",
   "execution_count": null,
   "id": "5cb819e8-eaba-474c-903b-f6381a98dc4b",
   "metadata": {},
   "outputs": [],
   "source": []
  }
 ],
 "metadata": {
  "kernelspec": {
   "display_name": "Python 3 (ipykernel)",
   "language": "python",
   "name": "python3"
  },
  "language_info": {
   "codemirror_mode": {
    "name": "ipython",
    "version": 3
   },
   "file_extension": ".py",
   "mimetype": "text/x-python",
   "name": "python",
   "nbconvert_exporter": "python",
   "pygments_lexer": "ipython3",
   "version": "3.12.7"
  }
 },
 "nbformat": 4,
 "nbformat_minor": 5
}
